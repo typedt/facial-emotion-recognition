{
 "cells": [
  {
   "cell_type": "code",
   "execution_count": 1,
   "metadata": {},
   "outputs": [],
   "source": [
    "import csv\n",
    "import numpy as np\n",
    "from matplotlib import pyplot as plt\n",
    "from sklearn.model_selection import train_test_split\n",
    "from sklearn.neighbors import KNeighborsClassifier\n",
    "from sklearn import metrics\n",
    "from collections import Counter\n",
    "import joblib"
   ]
  },
  {
   "cell_type": "code",
   "execution_count": 2,
   "metadata": {},
   "outputs": [],
   "source": [
    "def pca_params(X):\n",
    "    mu = np.mean(X,axis=0)\n",
    "    Z = X-mu\n",
    "    C = np.cov(Z,rowvar=False)\n",
    "    [lam, V] = np.linalg.eigh(C)\n",
    "    lam = np.flipud(lam)\n",
    "    V = np.flipud(V.T)\n",
    "    P = np.dot(Z,V.T)\n",
    "    return mu,P,V,lam"
   ]
  },
  {
   "cell_type": "code",
   "execution_count": 28,
   "metadata": {},
   "outputs": [],
   "source": [
    "def pc_cords(X, mu, V):\n",
    "    z = X - mu\n",
    "    p = np.dot(z, V.T)\n",
    "    return p"
   ]
  },
  {
   "cell_type": "code",
   "execution_count": 9,
   "metadata": {},
   "outputs": [],
   "source": [
    "def scatter_plot(P, T):\n",
    "  '''\n",
    "  P contains 2D vectors\n",
    "  '''\n",
    "  opacity=0.8\n",
    "  cols=np.zeros((len(T),4))     \n",
    "  cols[T=='happy']=[1,0,0,opacity] # red\n",
    "  cols[T=='sad']=[0,1,0,opacity]  #green\n",
    "  cols[T=='neutral']=[0,0,1,opacity] #blue\n",
    "  fig = plt.figure(figsize=(10,10))\n",
    "  ax = fig.add_subplot(111, facecolor='black')\n",
    "  randomorder=np.arange(len(T))\n",
    "  ax.scatter(P[randomorder,1],P[randomorder,0],s=50,linewidths=0,facecolors=cols[randomorder,:],marker=\"o\");\n",
    "  ax.set_aspect('equal')\n",
    "\n",
    "  plt.gca().invert_yaxis()\n",
    "  plt.show()"
   ]
  },
  {
   "cell_type": "code",
   "execution_count": 3,
   "metadata": {},
   "outputs": [
    {
     "data": {
      "text/plain": [
       "(574, 139)"
      ]
     },
     "execution_count": 3,
     "metadata": {},
     "output_type": "execute_result"
    }
   ],
   "source": [
    "# Load dataset from csv file\n",
    "CSV_FILE = '../scripts/train-neighbors_and_inner_mouth_angles.csv'\n",
    "allrows = np.loadtxt(CSV_FILE, delimiter=',', dtype='str')\n",
    "allrows.shape"
   ]
  },
  {
   "cell_type": "code",
   "execution_count": 4,
   "metadata": {},
   "outputs": [],
   "source": [
    "cols = allrows.shape[1] - 1\n",
    "X = allrows[:, :cols].astype('float')\n",
    "T = allrows[:, cols]"
   ]
  },
  {
   "cell_type": "code",
   "execution_count": 5,
   "metadata": {},
   "outputs": [],
   "source": [
    "# Split training and testing set\n",
    "X_train, X_test, T_train, T_test = train_test_split(X, T, test_size=0.2, random_state=111)"
   ]
  },
  {
   "cell_type": "code",
   "execution_count": 21,
   "metadata": {},
   "outputs": [
    {
     "data": {
      "text/plain": [
       "KNeighborsClassifier(algorithm='auto', leaf_size=30, metric='minkowski',\n",
       "                     metric_params=None, n_jobs=None, n_neighbors=7, p=2,\n",
       "                     weights='uniform')"
      ]
     },
     "execution_count": 21,
     "metadata": {},
     "output_type": "execute_result"
    }
   ],
   "source": [
    "# KNN on original feature vectors\n",
    "knn = KNeighborsClassifier(n_neighbors=7)\n",
    "knn.fit(X_train, T_train)"
   ]
  },
  {
   "cell_type": "code",
   "execution_count": 22,
   "metadata": {},
   "outputs": [
    {
     "data": {
      "text/plain": [
       "0.8608695652173913"
      ]
     },
     "execution_count": 22,
     "metadata": {},
     "output_type": "execute_result"
    }
   ],
   "source": [
    "pred = knn.predict(X_test)\n",
    "metrics.accuracy_score(T_test, pred)"
   ]
  },
  {
   "cell_type": "code",
   "execution_count": 23,
   "metadata": {},
   "outputs": [
    {
     "data": {
      "text/plain": [
       "Counter({('sad', 'sad'): 30,\n",
       "         ('happy', 'happy'): 37,\n",
       "         ('sad', 'neutral'): 2,\n",
       "         ('happy', 'neutral'): 2,\n",
       "         ('neutral', 'neutral'): 32,\n",
       "         ('neutral', 'sad'): 10,\n",
       "         ('neutral', 'happy'): 2})"
      ]
     },
     "execution_count": 23,
     "metadata": {},
     "output_type": "execute_result"
    }
   ],
   "source": [
    "Counter(zip(pred, T_test))"
   ]
  },
  {
   "cell_type": "code",
   "execution_count": 31,
   "metadata": {},
   "outputs": [],
   "source": [
    "# Search for the best K\n",
    "def search_k(X_train, T_train, X_test, T_test, klist=[]):\n",
    "    max_accu = 0\n",
    "    best_k = 0\n",
    "    for k in klist:\n",
    "        knn = KNeighborsClassifier(n_neighbors=k)\n",
    "        knn.fit(X_train, T_train)\n",
    "        pred = knn.predict(X_test)\n",
    "        accu = metrics.accuracy_score(T_test, pred)\n",
    "        if accu > max_accu:\n",
    "            max_accu = accu\n",
    "            best_k = k\n",
    "    return best_k, max_accu"
   ]
  },
  {
   "cell_type": "code",
   "execution_count": 32,
   "metadata": {},
   "outputs": [
    {
     "data": {
      "text/plain": [
       "(7, 0.8608695652173913)"
      ]
     },
     "execution_count": 32,
     "metadata": {},
     "output_type": "execute_result"
    }
   ],
   "source": [
    "search_k(X_train, T_train, X_test, T_test, klist=[3,4,5,6,7,8,9,10,11,12,13,14,15,16,17])"
   ]
  },
  {
   "cell_type": "code",
   "execution_count": 24,
   "metadata": {},
   "outputs": [],
   "source": [
    "# KNN on dimension reduced P, 30 dimensions"
   ]
  },
  {
   "cell_type": "code",
   "execution_count": 25,
   "metadata": {},
   "outputs": [],
   "source": [
    "# PCA parameters\n",
    "mu, P, V, lam = pca_params(X_train)"
   ]
  },
  {
   "cell_type": "code",
   "execution_count": 26,
   "metadata": {},
   "outputs": [
    {
     "data": {
      "image/png": "[encoded data removed]",
      "text/plain": [
       "<Figure size 720x720 with 1 Axes>"
      ]
     },
     "metadata": {
      "needs_background": "light"
     },
     "output_type": "display_data"
    }
   ],
   "source": [
    "# Plot 2-D point clouds\n",
    "P2=P[:,0:2]\n",
    "V2=V[0:2,:]\n",
    "scatter_plot(P2, T_train)"
   ]
  },
  {
   "cell_type": "code",
   "execution_count": 27,
   "metadata": {},
   "outputs": [],
   "source": [
    "P30 = P[:,0:30]\n",
    "V30 = V[0:30,:]"
   ]
  },
  {
   "cell_type": "code",
   "execution_count": 29,
   "metadata": {},
   "outputs": [],
   "source": [
    "P30_test = pc_cords(X_test, mu, V30)"
   ]
  },
  {
   "cell_type": "code",
   "execution_count": 33,
   "metadata": {},
   "outputs": [
    {
     "data": {
      "text/plain": [
       "(7, 0.8521739130434782)"
      ]
     },
     "execution_count": 33,
     "metadata": {},
     "output_type": "execute_result"
    }
   ],
   "source": [
    "search_k(P30, T_train, P30_test, T_test, klist=[3,4,5,6,7,8,9,10,11,12,13,14,15,16,17])"
   ]
  },
  {
   "cell_type": "code",
   "execution_count": 35,
   "metadata": {},
   "outputs": [
    {
     "data": {
      "text/plain": [
       "KNeighborsClassifier(algorithm='auto', leaf_size=30, metric='minkowski',\n",
       "                     metric_params=None, n_jobs=None, n_neighbors=7, p=2,\n",
       "                     weights='uniform')"
      ]
     },
     "execution_count": 35,
     "metadata": {},
     "output_type": "execute_result"
    }
   ],
   "source": [
    "knn = KNeighborsClassifier(n_neighbors=7)\n",
    "knn.fit(P30, T_train)"
   ]
  },
  {
   "cell_type": "code",
   "execution_count": 36,
   "metadata": {},
   "outputs": [
    {
     "data": {
      "text/plain": [
       "0.8521739130434782"
      ]
     },
     "execution_count": 36,
     "metadata": {},
     "output_type": "execute_result"
    }
   ],
   "source": [
    "pred = knn.predict(P30_test)\n",
    "metrics.accuracy_score(T_test, pred)"
   ]
  },
  {
   "cell_type": "code",
   "execution_count": 37,
   "metadata": {},
   "outputs": [
    {
     "data": {
      "text/plain": [
       "Counter({('sad', 'sad'): 30,\n",
       "         ('happy', 'happy'): 37,\n",
       "         ('sad', 'neutral'): 3,\n",
       "         ('happy', 'neutral'): 2,\n",
       "         ('neutral', 'neutral'): 31,\n",
       "         ('neutral', 'sad'): 10,\n",
       "         ('neutral', 'happy'): 2})"
      ]
     },
     "execution_count": 37,
     "metadata": {},
     "output_type": "execute_result"
    }
   ],
   "source": [
    "Counter(zip(pred, T_test))"
   ]
  },
  {
   "cell_type": "code",
   "execution_count": null,
   "metadata": {},
   "outputs": [],
   "source": []
  }
 ],
 "metadata": {
  "kernelspec": {
   "display_name": "Python3 (ML)",
   "language": "python",
   "name": "ml"
  },
  "language_info": {
   "codemirror_mode": {
    "name": "ipython",
    "version": 3
   },
   "file_extension": ".py",
   "mimetype": "text/x-python",
   "name": "python",
   "nbconvert_exporter": "python",
   "pygments_lexer": "ipython3",
   "version": "3.8.1"
  }
 },
 "nbformat": 4,
 "nbformat_minor": 2
}
